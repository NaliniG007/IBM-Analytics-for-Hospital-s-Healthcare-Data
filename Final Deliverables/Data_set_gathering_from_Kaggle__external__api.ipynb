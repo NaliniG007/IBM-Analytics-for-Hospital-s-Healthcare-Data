{
  "nbformat": 4,
  "nbformat_minor": 0,
  "metadata": {
    "colab": {
      "provenance": [],
      "collapsed_sections": []
    },
    "kernelspec": {
      "name": "python3",
      "display_name": "Python 3"
    },
    "language_info": {
      "name": "python"
    }
  },
  "cells": [
    {
      "cell_type": "code",
      "execution_count": 19,
      "metadata": {
        "colab": {
          "base_uri": "https://localhost:8080/"
        },
        "id": "M5oZzjhkmjG0",
        "outputId": "a5300185-73fb-4187-a6f3-5d2dedc8c435"
      },
      "outputs": [
        {
          "output_type": "stream",
          "name": "stdout",
          "text": [
            "kaggle datasets download -d dharshanprasathh/hospital-healthcare-data-analytics\n"
          ]
        }
      ],
      "source": [
        "import requests\n",
        "url = (\"kaggle datasets download -d dharshanprasathh/hospital-healthcare-data-analytics\")\n",
        "print(url)"
      ]
    },
    {
      "cell_type": "code",
      "source": [
        "! pip install -q kaggle"
      ],
      "metadata": {
        "id": "tpkLn1nBsT-P"
      },
      "execution_count": 20,
      "outputs": []
    },
    {
      "cell_type": "code",
      "source": [
        "!mkdir ~/.kaggle/"
      ],
      "metadata": {
        "colab": {
          "base_uri": "https://localhost:8080/"
        },
        "id": "AmXkioNqq1xR",
        "outputId": "077cbfbe-fd50-487c-9343-1f2fa2a64c46"
      },
      "execution_count": 22,
      "outputs": [
        {
          "output_type": "stream",
          "name": "stdout",
          "text": [
            "mkdir: cannot create directory ‘/root/.kaggle/’: File exists\n"
          ]
        }
      ]
    },
    {
      "cell_type": "code",
      "source": [
        "!cp kaggle.json ~/.kaggle/"
      ],
      "metadata": {
        "id": "BUYwTWz0riCY"
      },
      "execution_count": 23,
      "outputs": []
    },
    {
      "cell_type": "code",
      "source": [
        "pwd"
      ],
      "metadata": {
        "colab": {
          "base_uri": "https://localhost:8080/",
          "height": 36
        },
        "id": "e5ygpkFjro8P",
        "outputId": "dc54021b-1945-4cd8-c6b7-4ee9b7ef7823"
      },
      "execution_count": 24,
      "outputs": [
        {
          "output_type": "execute_result",
          "data": {
            "text/plain": [
              "'/content'"
            ],
            "application/vnd.google.colaboratory.intrinsic+json": {
              "type": "string"
            }
          },
          "metadata": {},
          "execution_count": 24
        }
      ]
    },
    {
      "cell_type": "code",
      "source": [
        "!chmod 600  ~/.kaggle/kaggle.json"
      ],
      "metadata": {
        "id": "k0bXSd9BrupC"
      },
      "execution_count": 25,
      "outputs": []
    },
    {
      "cell_type": "code",
      "source": [
        "!kaggle datasets download -d dharshanprasathh/hospital-healthcare-data-analytics"
      ],
      "metadata": {
        "colab": {
          "base_uri": "https://localhost:8080/"
        },
        "id": "jaMUamHQrvHY",
        "outputId": "d9b31a12-11ae-44df-b015-f3505a15ea77"
      },
      "execution_count": 26,
      "outputs": [
        {
          "output_type": "stream",
          "name": "stdout",
          "text": [
            "Downloading hospital-healthcare-data-analytics.zip to /content\n",
            " 76% 5.00M/6.54M [00:00<00:00, 9.98MB/s]\n",
            "100% 6.54M/6.54M [00:00<00:00, 9.07MB/s]\n"
          ]
        }
      ]
    },
    {
      "cell_type": "code",
      "source": [
        "!unzip /content/hospital-healthcare-data-analytics.zip"
      ],
      "metadata": {
        "id": "DC5E9WE4ryt4",
        "colab": {
          "base_uri": "https://localhost:8080/"
        },
        "outputId": "4e0d6dcd-a69f-4c31-c856-84d6df94d6b3"
      },
      "execution_count": 27,
      "outputs": [
        {
          "output_type": "stream",
          "name": "stdout",
          "text": [
            "Archive:  /content/hospital-healthcare-data-analytics.zip\n",
            "  inflating: healthcare/sample_sub.csv  \n",
            "  inflating: healthcare/test_data.csv  \n",
            "  inflating: healthcare/train_data.csv  \n",
            "  inflating: healthcare/train_data_dictionary.csv  \n"
          ]
        }
      ]
    }
  ]
}